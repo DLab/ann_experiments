{
 "cells": [
  {
   "cell_type": "markdown",
   "metadata": {},
   "source": [
    "# Real time Digits!"
   ]
  },
  {
   "cell_type": "code",
   "execution_count": null,
   "metadata": {},
   "outputs": [],
   "source": [
    "### Main header.\n",
    "\n",
    "import numpy as np\n",
    "import cv2\n",
    "import torch\n",
    "import torch.nn as nn\n",
    "import torch.nn.functional as F\n",
    "\n",
    "from torch.autograd import Variable\n",
    "from torchvision import transforms"
   ]
  },
  {
   "cell_type": "code",
   "execution_count": null,
   "metadata": {},
   "outputs": [],
   "source": [
    "### Network class definition and deserialization.\n",
    "\n",
    "class Net(nn.Module):\n",
    "    def __init__(self):\n",
    "        super(Net, self).__init__()\n",
    "        self.conv1 = nn.Conv2d(in_channels  = 1,\n",
    "                               out_channels = 10,\n",
    "                               kernel_size  = 5)\n",
    "        \n",
    "        self.conv2 = nn.Conv2d(in_channels  = 10,\n",
    "                               out_channels = 20,\n",
    "                               kernel_size  = 5)\n",
    "        \n",
    "        self.conv2_drop = nn.Dropout2d()\n",
    "        \n",
    "        self.fc1 = nn.Linear(in_features  = 320,\n",
    "                             out_features = 50)\n",
    "        \n",
    "        self.fc2 = nn.Linear(in_features  = 50,\n",
    "                             out_features = 10)\n",
    "        \n",
    "    def forward(self, x):\n",
    "        x = F.relu(F.max_pool2d(self.conv1(x), 2))\n",
    "        x = F.relu(F.max_pool2d(self.conv2_drop(self.conv2(x)), 2))\n",
    "        x = x.view(-1, 320)\n",
    "        x = F.relu(self.fc1(x))\n",
    "        x = F.dropout(x, training=self.training)\n",
    "        x = self.fc2(x)\n",
    "        return F.log_softmax(x, dim=1)\n",
    "\n",
    "model = Net()\n",
    "model.load_state_dict(torch.load(\"./state.pkl\"))"
   ]
  },
  {
   "cell_type": "code",
   "execution_count": null,
   "metadata": {},
   "outputs": [],
   "source": [
    "def classify_digit(image, model):\n",
    "    image = cv2.cvtColor(image, cv2.COLOR_BGR2GRAY)  # To gray\n",
    "    image = cv2.resize(image, (28, 28))              # Resize\n",
    "    \n",
    "    image  # \n",
    "    image = np.array(image, dtype=np.uint8)                             #\n",
    "\n",
    "    image = cv2.bitwise_not(image)                   # Invert\n",
    "\n",
    "    f = transforms.ToTensor()                       # ToTensor() converts numpy.ndarray (H x W x C) in the range\n",
    "    image = np.reshape(image, (28,28,1))            # [0, 255] to a torch.FloatTensor of shape (C x H x W)\n",
    "    image = f(image)                                # in the range [0.0, 1.0].\n",
    "\n",
    "    array = np.array(image)                            # Normalization\n",
    "    f = transforms.Normalize((float(np.mean(array)),), #\n",
    "                             (float(np.std(array)),))  #\n",
    "    #f = transforms.Normalize((0.1307,),(0.3081,))\n",
    "    image = f(image)                                   #\n",
    "    \n",
    "    image = image.unsqueeze(0) # Adds the groups dimension. Tensor shape now is (1,1,28,28).\n",
    "    \n",
    "    model.eval()\n",
    "    image = Variable(image)\n",
    "    result = model(image)\n",
    "    \n",
    "    return np.argsort(np.array(result.data[0]))[-1]"
   ]
  },
  {
   "cell_type": "code",
   "execution_count": null,
   "metadata": {},
   "outputs": [],
   "source": [
    "### Real time classification!!\n",
    "\n",
    "cap = cv2.VideoCapture(0)\n",
    "\n",
    "while(True):\n",
    "    ret, frame = cap.read()\n",
    "    \n",
    "    number = str(classify_digit(frame, model))\n",
    "    \n",
    "    font = cv2.FONT_HERSHEY_SIMPLEX\n",
    "    cv2.putText(frame,number,(10,100), font, 4,(255,255,255),2,cv2.LINE_AA)\n",
    "    \n",
    "    cv2.imshow('frame', frame)\n",
    "    if cv2.waitKey(1) & 0xFF == ord('q'):\n",
    "        break\n",
    "\n",
    "cap.release()\n",
    "cv2.destroyAllWindows()"
   ]
  },
  {
   "cell_type": "code",
   "execution_count": null,
   "metadata": {},
   "outputs": [],
   "source": []
  }
 ],
 "metadata": {
  "kernelspec": {
   "display_name": "Python 3",
   "language": "python",
   "name": "python3"
  },
  "language_info": {
   "codemirror_mode": {
    "name": "ipython",
    "version": 3
   },
   "file_extension": ".py",
   "mimetype": "text/x-python",
   "name": "python",
   "nbconvert_exporter": "python",
   "pygments_lexer": "ipython3",
   "version": "3.5.3"
  }
 },
 "nbformat": 4,
 "nbformat_minor": 2
}
