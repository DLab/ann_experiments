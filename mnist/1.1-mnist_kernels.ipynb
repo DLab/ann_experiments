{
 "cells": [
  {
   "cell_type": "code",
   "execution_count": null,
   "metadata": {},
   "outputs": [],
   "source": [
    "### Main header.\n",
    "\n",
    "import torch\n",
    "import numpy as np\n",
    "import matplotlib.pyplot as plt\n",
    "\n",
    "state_dict = torch.load(\"./state.pkl\")"
   ]
  },
  {
   "cell_type": "code",
   "execution_count": null,
   "metadata": {},
   "outputs": [],
   "source": [
    "### Convolution 1, kernels.\n",
    "\n",
    "plt.figure(figsize=(20,3))\n",
    "\n",
    "index = 1\n",
    "for kernel in state_dict[\"conv1.weight\"]:\n",
    "    kernel = np.reshape(np.array(kernel), (5,5))\n",
    "    plt.subplot(1, 10, index)\n",
    "    plt.axis(\"off\")\n",
    "    plt.imshow(kernel, cmap=\"gray\")\n",
    "    index += 1\n",
    "\n",
    "plt.show()"
   ]
  },
  {
   "cell_type": "code",
   "execution_count": null,
   "metadata": {},
   "outputs": [],
   "source": [
    "### Convolution 2, kernels.\n",
    "\n",
    "for kernel_group in state_dict[\"conv2.weight\"]:\n",
    "    plt.figure(figsize=(20,3))\n",
    "    index = 1\n",
    "    for kernel in kernel_group:\n",
    "        kernel = np.reshape(np.array(kernel), (5,5))\n",
    "        plt.subplot(1, 10, index)\n",
    "        plt.axis(\"off\")\n",
    "        plt.imshow(kernel, cmap=\"gray\")\n",
    "        index += 1\n",
    "        \n",
    "    plt.show()"
   ]
  }
 ],
 "metadata": {
  "kernelspec": {
   "display_name": "Python 3",
   "language": "python",
   "name": "python3"
  },
  "language_info": {
   "codemirror_mode": {
    "name": "ipython",
    "version": 3
   },
   "file_extension": ".py",
   "mimetype": "text/x-python",
   "name": "python",
   "nbconvert_exporter": "python",
   "pygments_lexer": "ipython3",
   "version": "3.5.3"
  }
 },
 "nbformat": 4,
 "nbformat_minor": 2
}
